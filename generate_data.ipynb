{
 "cells": [
  {
   "cell_type": "code",
   "execution_count": 11,
   "id": "c972d198",
   "metadata": {},
   "outputs": [],
   "source": [
    "from PIL import Image\n",
    "import os, glob\n",
    "import numpy as np\n",
    "#from sklearn import cross_validation\n",
    "from sklearn import model_selection\n",
    "\n",
    "classes = [\"monkey\", \"boar\", \"crow\"]\n",
    "num_classes = len(classes)\n",
    "image_size = 50\n",
    "\n",
    "# 画像の読み込み\n",
    "\n",
    "x = []\n",
    "y = []\n",
    "for index, classlabel in enumerate(classes):\n",
    "    photos_dir = \"./\" + classlabel \n",
    "    files = glob.glob(photos_dir + \"/*.jpg\")\n",
    "    for i, file in enumerate(files):\n",
    "        if i >= 200: break\n",
    "        image = Image.open(file)\n",
    "        image = image.convert(\"RGB\")\n",
    "        image = image.resize((image_size, image_size))\n",
    "        data = np.asarray(image)\n",
    "        x.append(data)\n",
    "        y.append(index)\n",
    "\n",
    "\n",
    "# TensorFlowが扱いやすいデータに変える\n",
    "x = np.array(x)\n",
    "y = np.array(y)\n",
    "\n",
    "# 学習用とテスト用でデータを分類する\n"
   ]
  },
  {
   "cell_type": "code",
   "execution_count": 12,
   "id": "5aeca338",
   "metadata": {},
   "outputs": [
    {
     "data": {
      "text/plain": [
       "array([[[ 29,  35,  20],\n",
       "        [ 23,  29,  15],\n",
       "        [ 22,  28,  15],\n",
       "        ...,\n",
       "        [ 25,  31,  17],\n",
       "        [ 26,  33,  17],\n",
       "        [ 28,  35,  19]],\n",
       "\n",
       "       [[ 25,  32,  15],\n",
       "        [ 22,  29,  13],\n",
       "        [ 23,  29,  14],\n",
       "        ...,\n",
       "        [ 28,  35,  19],\n",
       "        [ 28,  35,  18],\n",
       "        [ 29,  36,  18]],\n",
       "\n",
       "       [[ 24,  31,  14],\n",
       "        [ 25,  32,  16],\n",
       "        [ 25,  32,  16],\n",
       "        ...,\n",
       "        [ 32,  39,  22],\n",
       "        [ 31,  38,  21],\n",
       "        [ 32,  39,  21]],\n",
       "\n",
       "       ...,\n",
       "\n",
       "       [[ 69,  53,  30],\n",
       "        [ 77,  59,  33],\n",
       "        [ 81,  61,  36],\n",
       "        ...,\n",
       "        [ 37,  44,  26],\n",
       "        [ 40,  47,  29],\n",
       "        [ 41,  48,  29]],\n",
       "\n",
       "       [[ 51,  37,  21],\n",
       "        [ 58,  42,  22],\n",
       "        [ 58,  44,  23],\n",
       "        ...,\n",
       "        [ 39,  46,  30],\n",
       "        [ 40,  47,  29],\n",
       "        [ 40,  47,  29]],\n",
       "\n",
       "       [[111,  99,  80],\n",
       "        [ 71,  63,  49],\n",
       "        [ 30,  26,  24],\n",
       "        ...,\n",
       "        [ 38,  45,  29],\n",
       "        [ 39,  46,  28],\n",
       "        [ 39,  46,  28]]], dtype=uint8)"
      ]
     },
     "execution_count": 12,
     "metadata": {},
     "output_type": "execute_result"
    }
   ],
   "source": [
    "x[0]"
   ]
  },
  {
   "cell_type": "code",
   "execution_count": 13,
   "id": "1f4a88bc",
   "metadata": {},
   "outputs": [],
   "source": [
    "from PIL import Image\n",
    "import os, glob\n",
    "import numpy as np\n",
    "#from sklearn import cross_validation\n",
    "from sklearn import model_selection\n",
    "\n",
    "classes = [\"monkey\", \"boar\", \"crow\"]\n",
    "num_classes = len(classes)\n",
    "image_size = 50\n",
    "\n",
    "# 画像の読み込み\n",
    "\n",
    "X = []\n",
    "Y = []\n",
    "for index, classlabel in enumerate(classes):\n",
    "    photos_dir = \"./\" + classlabel \n",
    "    files = glob.glob(photos_dir + \"/*.jpg\")\n",
    "    for i, file in enumerate(files):\n",
    "        if i >= 200: break\n",
    "        image = Image.open(file)\n",
    "        image = image.convert(\"RGB\")\n",
    "        image = image.resize((image_size, image_size))\n",
    "        data = np.asarray(image)\n",
    "        X.append(data)\n",
    "        Y.append(index)\n",
    "\n",
    "\n",
    "# TensorFlowが扱いやすいデータに変える\n",
    "X = np.array(X)\n",
    "Y = np.array(Y)\n",
    "\n"
   ]
  },
  {
   "cell_type": "code",
   "execution_count": 14,
   "id": "71f65287",
   "metadata": {},
   "outputs": [],
   "source": [
    "X_train, X_test, Y_train, Y_test = model_selection.train_test_split(X, Y)\n",
    "xy = (X_train, X_test, Y_train, Y_test)"
   ]
  },
  {
   "cell_type": "code",
   "execution_count": null,
   "id": "cee87255",
   "metadata": {},
   "outputs": [],
   "source": []
  }
 ],
 "metadata": {
  "kernelspec": {
   "display_name": "Python 3 (ipykernel)",
   "language": "python",
   "name": "python3"
  },
  "language_info": {
   "codemirror_mode": {
    "name": "ipython",
    "version": 3
   },
   "file_extension": ".py",
   "mimetype": "text/x-python",
   "name": "python",
   "nbconvert_exporter": "python",
   "pygments_lexer": "ipython3",
   "version": "3.9.12"
  }
 },
 "nbformat": 4,
 "nbformat_minor": 5
}
