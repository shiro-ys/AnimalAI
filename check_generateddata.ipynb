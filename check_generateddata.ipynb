{
 "cells": [
  {
   "cell_type": "code",
   "execution_count": 1,
   "id": "54f0d0ed",
   "metadata": {},
   "outputs": [
    {
     "name": "stderr",
     "output_type": "stream",
     "text": [
      "C:\\Users\\shiro\\anaconda3\\lib\\site-packages\\numpy\\core\\_asarray.py:171: VisibleDeprecationWarning: Creating an ndarray from ragged nested sequences (which is a list-or-tuple of lists-or-tuples-or ndarrays with different lengths or shapes) is deprecated. If you meant to do this, you must specify 'dtype=object' when creating the ndarray.\n",
      "  return array(a, dtype, copy=False, order=order, subok=True)\n"
     ]
    }
   ],
   "source": [
    "from PIL import Image\n",
    "import os, glob\n",
    "import numpy as np\n",
    "#from sklearn import cross_validation\n",
    "from sklearn import model_selection\n",
    "\n",
    "classes = [\"monkey\", \"boar\", \"crow\"]\n",
    "num_classes = len(classes)\n",
    "image_size = 50\n",
    "\n",
    "# 画像の読み込み\n",
    "\n",
    "X = []\n",
    "Y = []\n",
    "for index, classlabel in enumerate(classes):\n",
    "    photos_dir = \"./\" + classlabel\n",
    "    files = glob.glob(photos_dir + \"/*.jpg\")\n",
    "    for i, file in enumerate(files):\n",
    "        if i >= 200: break\n",
    "        image = Image.open(file)\n",
    "        image = image.convert(\"RGB\")\n",
    "        image = image.resize((image_size, image_size))\n",
    "        data = np.asarray(image)\n",
    "        X.append(data)\n",
    "        Y.append(index)\n",
    "\n",
    "\n",
    "# TensorFlowが扱いやすいデータに変える\n",
    "X = np.array(X)\n",
    "Y = np.array(Y)\n",
    "\n",
    "# 学習用とテスト用でデータを分類する\n",
    "X_train, X_test, Y_train, Y_test = model_selection.train_test_split(X, Y)\n",
    "xy = (X_train, X_test, Y_train, Y_test)\n",
    "np.save(\"./animal.npy\", xy)\n",
    "\n",
    "\n"
   ]
  },
  {
   "cell_type": "code",
   "execution_count": 2,
   "id": "936da123",
   "metadata": {},
   "outputs": [
    {
     "data": {
      "text/plain": [
       "450"
      ]
     },
     "execution_count": 2,
     "metadata": {},
     "output_type": "execute_result"
    }
   ],
   "source": [
    "len(X_train)"
   ]
  },
  {
   "cell_type": "code",
   "execution_count": 3,
   "id": "0c27c846",
   "metadata": {},
   "outputs": [
    {
     "data": {
      "text/plain": [
       "150"
      ]
     },
     "execution_count": 3,
     "metadata": {},
     "output_type": "execute_result"
    }
   ],
   "source": [
    "len(X_test)"
   ]
  },
  {
   "cell_type": "code",
   "execution_count": 4,
   "id": "605f913d",
   "metadata": {},
   "outputs": [
    {
     "data": {
      "text/plain": [
       "450"
      ]
     },
     "execution_count": 4,
     "metadata": {},
     "output_type": "execute_result"
    }
   ],
   "source": [
    "len(Y_train)"
   ]
  },
  {
   "cell_type": "code",
   "execution_count": 5,
   "id": "2f27ca67",
   "metadata": {},
   "outputs": [
    {
     "data": {
      "text/plain": [
       "150"
      ]
     },
     "execution_count": 5,
     "metadata": {},
     "output_type": "execute_result"
    }
   ],
   "source": [
    "len(Y_test)"
   ]
  },
  {
   "cell_type": "code",
   "execution_count": 6,
   "id": "fae25ba5",
   "metadata": {},
   "outputs": [
    {
     "data": {
      "text/plain": [
       "array([[[102, 105,  92],\n",
       "        [116, 117,  98],\n",
       "        [128, 133, 110],\n",
       "        ...,\n",
       "        [101, 100,  80],\n",
       "        [104, 105,  86],\n",
       "        [ 96,  98,  77]],\n",
       "\n",
       "       [[152, 158, 136],\n",
       "        [157, 161, 140],\n",
       "        [157, 161, 140],\n",
       "        ...,\n",
       "        [121, 117,  89],\n",
       "        [124, 122,  92],\n",
       "        [ 85,  83,  55]],\n",
       "\n",
       "       [[144, 173,  93],\n",
       "        [135, 156,  98],\n",
       "        [105, 118,  86],\n",
       "        ...,\n",
       "        [140, 136, 100],\n",
       "        [126, 124,  91],\n",
       "        [ 76,  73,  44]],\n",
       "\n",
       "       ...,\n",
       "\n",
       "       [[131, 140, 132],\n",
       "        [134, 144, 137],\n",
       "        [138, 149, 142],\n",
       "        ...,\n",
       "        [ 99,  96,  73],\n",
       "        [ 92,  87,  70],\n",
       "        [ 93,  89,  67]],\n",
       "\n",
       "       [[134, 144, 137],\n",
       "        [140, 149, 141],\n",
       "        [152, 160, 153],\n",
       "        ...,\n",
       "        [ 88,  87,  75],\n",
       "        [ 98,  93,  83],\n",
       "        [106,  96,  84]],\n",
       "\n",
       "       [[111, 122, 115],\n",
       "        [115, 123, 115],\n",
       "        [116, 120, 114],\n",
       "        ...,\n",
       "        [118, 103,  91],\n",
       "        [122, 106,  92],\n",
       "        [118, 100,  83]]], dtype=uint8)"
      ]
     },
     "execution_count": 6,
     "metadata": {},
     "output_type": "execute_result"
    }
   ],
   "source": [
    "X_train[100]"
   ]
  },
  {
   "cell_type": "code",
   "execution_count": null,
   "id": "05f86fa4",
   "metadata": {},
   "outputs": [],
   "source": []
  }
 ],
 "metadata": {
  "kernelspec": {
   "display_name": "Python 3 (ipykernel)",
   "language": "python",
   "name": "python3"
  },
  "language_info": {
   "codemirror_mode": {
    "name": "ipython",
    "version": 3
   },
   "file_extension": ".py",
   "mimetype": "text/x-python",
   "name": "python",
   "nbconvert_exporter": "python",
   "pygments_lexer": "ipython3",
   "version": "3.9.7"
  }
 },
 "nbformat": 4,
 "nbformat_minor": 5
}
